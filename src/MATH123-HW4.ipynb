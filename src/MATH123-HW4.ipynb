{
 "cells": [
  {
   "cell_type": "markdown",
   "id": "04b1ed8c",
   "metadata": {},
   "source": [
    "# MATH123-HW3\n",
    "Ethan Harvey"
   ]
  },
  {
   "cell_type": "code",
   "execution_count": 1,
   "id": "98d681b1",
   "metadata": {},
   "outputs": [],
   "source": [
    "import numpy as np\n",
    "\n",
    "import matplotlib\n",
    "import matplotlib.pyplot as plt\n",
    "\n",
    "import warnings\n",
    "warnings.filterwarnings('ignore')"
   ]
  },
  {
   "cell_type": "markdown",
   "id": "f219daa5",
   "metadata": {},
   "source": [
    "## Question 2\n",
    "(a)"
   ]
  },
  {
   "cell_type": "code",
   "execution_count": null,
   "id": "b4d347df",
   "metadata": {},
   "outputs": [],
   "source": []
  }
 ],
 "metadata": {
  "kernelspec": {
   "display_name": "Python 3",
   "language": "python",
   "name": "python3"
  },
  "language_info": {
   "codemirror_mode": {
    "name": "ipython",
    "version": 3
   },
   "file_extension": ".py",
   "mimetype": "text/x-python",
   "name": "python",
   "nbconvert_exporter": "python",
   "pygments_lexer": "ipython3",
   "version": "3.8.8"
  }
 },
 "nbformat": 4,
 "nbformat_minor": 5
}
