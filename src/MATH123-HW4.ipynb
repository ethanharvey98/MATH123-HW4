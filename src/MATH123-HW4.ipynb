{
 "cells": [
  {
   "cell_type": "markdown",
   "id": "a2a687de",
   "metadata": {},
   "source": [
    "# MATH123-HW3\n",
    "Ethan Harvey"
   ]
  },
  {
   "cell_type": "code",
   "execution_count": 418,
   "id": "e0a4acbe",
   "metadata": {},
   "outputs": [],
   "source": [
    "import numpy as np\n",
    "import pandas as pd\n",
    "\n",
    "from scipy.spatial.distance import cdist\n",
    "\n",
    "import matplotlib\n",
    "import matplotlib.pyplot as plt\n",
    "\n",
    "import warnings\n",
    "warnings.filterwarnings('ignore')"
   ]
  },
  {
   "cell_type": "markdown",
   "id": "3e0af6ab",
   "metadata": {},
   "source": [
    "### Question 2\n",
    "(a)"
   ]
  },
  {
   "cell_type": "code",
   "execution_count": 419,
   "id": "1854e5e5",
   "metadata": {},
   "outputs": [],
   "source": [
    "def kmeans(data, n_clusters):\n",
    "    # randomly initialize first centroid\n",
    "    centroids = []\n",
    "    index = np.random.randint(len(data))\n",
    "    centroids.append(data[index,:])\n",
    "    new_data = np.delete(data, [index], axis=0)\n",
    "    \n",
    "    # initialize other centroids using farthest heuristic\n",
    "    for _ in range(n_clusters-1):\n",
    "        distances = np.min(cdist(new_data, centroids, 'euclidean'), axis=1)\n",
    "        # get first index of datapoint with max min distance\n",
    "        index = np.where(distances == max(distances))[0][0]\n",
    "        centroids.append(new_data[index,:])\n",
    "        new_data = np.delete(new_data, [index], axis=0)\n",
    "    \n",
    "    # iterate\n",
    "    centroids = np.array(centroids)\n",
    "    old_centroids = np.array([np.array([0,0]) for i in range(n_clusters)])\n",
    "    \n",
    "    while not np.linalg.norm(old_centroids - centroids, ord=2, axis=1).all() == 0:\n",
    "        distances = np.array([[np.linalg.norm(centroid - data[index,:], ord = 2) for index in range(len(data))] for centroid in centroids])\n",
    "        labels = np.argmin(distances, axis=0)\n",
    "        # update centroids\n",
    "        old_centroids = centroids\n",
    "        centroids = np.array([sum(data[labels==cluster])/len(data[labels==cluster]) for cluster in range(n_clusters)])\n",
    "        \n",
    "    return centroids, labels\n",
    "\n",
    "_, labels = kmeans(np.array([[1,1],[2,2],[10,10],[11,11]]), 3)"
   ]
  },
  {
   "cell_type": "markdown",
   "id": "85162235",
   "metadata": {},
   "source": [
    "(b)"
   ]
  },
  {
   "cell_type": "code",
   "execution_count": 420,
   "id": "8294a507",
   "metadata": {},
   "outputs": [],
   "source": [
    "def centered_and_scaled(X):\n",
    "    centered = np.array([X[:,i]-X[:,i].mean() for i in range(X.shape[1])]).T\n",
    "    scaled = np.array([centered[:,i]/centered[:,i].std() if not centered[:,i].std() == 0 else centered[:,i] for i in range(X.shape[1])]).T\n",
    "    return scaled"
   ]
  },
  {
   "cell_type": "code",
   "execution_count": 421,
   "id": "553aa372",
   "metadata": {},
   "outputs": [
    {
     "data": {
      "image/png": "[encoded data removed]",
      "text/plain": [
       "<Figure size 432x288 with 1 Axes>"
      ]
     },
     "metadata": {
      "needs_background": "light"
     },
     "output_type": "display_data"
    }
   ],
   "source": [
    "# load .csv\n",
    "data = pd.read_csv(\"solvents.csv\")[[\"BoilingPoint\",\"Solubility\"]].to_numpy()\n",
    "# center and scale data\n",
    "data  = centered_and_scaled(data)\n",
    "_, labels = kmeans(data, 3)\n",
    "colors = ['red','green','blue']\n",
    "colors = [colors[labels[index]] for index in range(len(labels))]\n",
    "plt.scatter(data[:,0], data[:,1], color=colors)\n",
    "plt.gca().set_aspect('equal')\n",
    "plt.ylabel(\"Solubility\")\n",
    "plt.xlabel(\"Boiling Point\")\n",
    "plt.title(\"Boiling Point vs. Solubility\")\n",
    "plt.show()"
   ]
  },
  {
   "cell_type": "code",
   "execution_count": 422,
   "id": "ab5a07c1",
   "metadata": {},
   "outputs": [
    {
     "name": "stdout",
     "output_type": "stream",
     "text": [
      "[[2 0 0 ... 1 1 2]\n",
      " [0 1 1 ... 2 2 2]\n",
      " [0 2 2 ... 1 1 1]\n",
      " ...\n",
      " [1 2 2 ... 0 0 0]\n",
      " [1 2 2 ... 0 0 0]\n",
      " [0 2 2 ... 1 1 1]]\n"
     ]
    }
   ],
   "source": [
    "results = []\n",
    "for i in range(10):\n",
    "    _, labels = kmeans(data, 3)\n",
    "    results.append(labels)\n",
    "print(np.array(results))"
   ]
  },
  {
   "cell_type": "markdown",
   "id": "9fcb2a5c",
   "metadata": {},
   "source": [
    "The data points do not all belong to the exact same cluster every time the algorithm is run. This is because we randomly initialized the first centroid and so our centroids are not guarenteed to be the same each time the algorithm is run.\n",
    "\n",
    "(c)"
   ]
  },
  {
   "cell_type": "code",
   "execution_count": 423,
   "id": "52251cbc",
   "metadata": {},
   "outputs": [
    {
     "data": {
      "image/png": "[encoded data removed]",
      "text/plain": [
       "<Figure size 432x288 with 1 Axes>"
      ]
     },
     "metadata": {
      "needs_background": "light"
     },
     "output_type": "display_data"
    }
   ],
   "source": [
    "errors = []\n",
    "for n_clusters in [2,3,4,5,6,7,8,9,10]:\n",
    "    centroids, labels = kmeans(data, n_clusters)\n",
    "    errors.append(np.average(np.min(cdist(data, centroids, 'euclidean'), axis=1)))\n",
    "plt.scatter([2,3,4,5,6,7,8,9,10], errors)\n",
    "plt.ylabel(\"Error\")\n",
    "plt.xlabel(\"Number of Clusters\")\n",
    "plt.title(\"Distance Between Each Data Point and its Centroid\")\n",
    "plt.show()"
   ]
  },
  {
   "cell_type": "markdown",
   "id": "773e68ab",
   "metadata": {},
   "source": [
    "Plot the error measure for K = 2, 3, 4, ..., 10, what do you observe? What is a good number of clusters to use and why?"
   ]
  },
  {
   "cell_type": "markdown",
   "id": "98d5d917",
   "metadata": {},
   "source": [
    "### Question 3\n",
    "(a)"
   ]
  },
  {
   "cell_type": "code",
   "execution_count": 424,
   "id": "a0657164",
   "metadata": {},
   "outputs": [],
   "source": [
    "def project_data(X, number_components):\n",
    "    X = centered_and_scaled(X)\n",
    "    cov_matrix = (1/len(X))*X.T@X\n",
    "    eigen_values, eigen_vectors = np.linalg.eig(cov_matrix)\n",
    "    idx = eigen_values.argsort()[::-1]   \n",
    "    eigen_values = eigen_values[idx]\n",
    "    eigen_vectors = eigen_vectors[:,idx]\n",
    "    pca_vectors = eigen_vectors[:,:number_components]\n",
    "    X_pca = X@pca_vectors\n",
    "    return X_pca"
   ]
  },
  {
   "cell_type": "code",
   "execution_count": 425,
   "id": "0540dff4",
   "metadata": {},
   "outputs": [
    {
     "data": {
      "image/png": "[encoded data removed]",
      "text/plain": [
       "<Figure size 432x288 with 1 Axes>"
      ]
     },
     "metadata": {
      "needs_background": "light"
     },
     "output_type": "display_data"
    }
   ],
   "source": [
    "import scipy.io\n",
    "from sklearn.cluster import KMeans\n",
    "X = scipy.io.loadmat('mnist_067.mat')['data_067']\n",
    "X_pca = project_data(X, 2)\n",
    "kmeans = KMeans(n_clusters=3).fit(np.real(X_pca))\n",
    "plt.scatter(centered_and_scaled(X_pca)[kmeans.labels_==0,0], \n",
    "            centered_and_scaled(X_pca)[kmeans.labels_==0,1], \n",
    "            color=\"red\", label=\"Cluster 0\")\n",
    "plt.scatter(centered_and_scaled(X_pca)[kmeans.labels_==1,0], \n",
    "            centered_and_scaled(X_pca)[kmeans.labels_==1,1], \n",
    "            color=\"blue\", label=\"Cluster 1\")\n",
    "plt.scatter(centered_and_scaled(X_pca)[kmeans.labels_==2,0], \n",
    "            centered_and_scaled(X_pca)[kmeans.labels_==2,1], \n",
    "            color=\"green\", label=\"Cluster 2\")\n",
    "plt.gca().set_aspect('equal')\n",
    "plt.title(\"mnist_067\")\n",
    "plt.legend()\n",
    "plt.show()"
   ]
  },
  {
   "cell_type": "markdown",
   "id": "e7869cc9",
   "metadata": {},
   "source": [
    "(b)"
   ]
  },
  {
   "cell_type": "markdown",
   "id": "b910bad9",
   "metadata": {},
   "source": [
    "Recall the results of problem 6 in HW3. Given those results, what could you conclude about your result in (a) ?"
   ]
  },
  {
   "cell_type": "code",
   "execution_count": null,
   "id": "140ad723",
   "metadata": {},
   "outputs": [],
   "source": []
  }
 ],
 "metadata": {
  "kernelspec": {
   "display_name": "Python 3",
   "language": "python",
   "name": "python3"
  },
  "language_info": {
   "codemirror_mode": {
    "name": "ipython",
    "version": 3
   },
   "file_extension": ".py",
   "mimetype": "text/x-python",
   "name": "python",
   "nbconvert_exporter": "python",
   "pygments_lexer": "ipython3",
   "version": "3.8.8"
  }
 },
 "nbformat": 4,
 "nbformat_minor": 5
}
